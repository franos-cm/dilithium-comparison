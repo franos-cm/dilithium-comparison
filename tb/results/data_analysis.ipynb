{
 "cells": [
  {
   "cell_type": "markdown",
   "id": "c155112a",
   "metadata": {},
   "source": [
    "# Metrics extraction"
   ]
  },
  {
   "cell_type": "code",
   "execution_count": null,
   "id": "2833b2aa",
   "metadata": {},
   "outputs": [],
   "source": [
    "import pandas as pd\n",
    "import numpy as np"
   ]
  },
  {
   "cell_type": "code",
   "execution_count": null,
   "id": "8197269d",
   "metadata": {},
   "outputs": [],
   "source": [
    "class DilithiumStats:\n",
    "    def __init__(self, design_id: str, initial_tv: int, last_tv: int):\n",
    "        self.base_template_vars = {\n",
    "            \"design_id\": design_id,\n",
    "            \"initial_tv\": initial_tv,\n",
    "            \"last_tv\": last_tv\n",
    "        }\n",
    "        self.file_template = \"{op_type}_{design_id}_lvl{sec_level}_tv{initial_tv}_{last_tv}.csv\"\n",
    "\n",
    "    def get_filename(self, op_type, sec_level):\n",
    "        return self.file_template.format(op_type=op_type, sec_level=sec_level, **self.base_template_vars)\n",
    "\n",
    "    def get_keygen_data(self):\n",
    "        keygen_lvl2_df = pd.read_csv(self.get_filename(op_type=\"keygen\", sec_level=\"2\")).drop(labels=\"success\", axis=1)\n",
    "        keygen_lvl3_df = pd.read_csv(self.get_filename(op_type=\"keygen\", sec_level=\"3\")).drop(labels=\"success\", axis=1)\n",
    "        keygen_lvl5_df = pd.read_csv(self.get_filename(op_type=\"keygen\", sec_level=\"5\")).drop(labels=\"success\", axis=1)\n",
    "        keygen_lvl5_df = keygen_lvl5_df.rename(columns={col: f\"{col}_lvl5\" for col in keygen_lvl5_df.columns if \"cycles\" in col})\n",
    "        keygen_df = pd.merge(keygen_lvl2_df, keygen_lvl3_df, on='test_num', suffixes=[\"_lvl2\", \"_lvl3\"])\n",
    "        keygen_df = pd.merge(keygen_df, keygen_lvl5_df, on='test_num', suffixes=[None, \"_lvl5\"])\n",
    "        return keygen_df\n",
    "    \n",
    "    def get_sign_data(self):\n",
    "        sign_lvl2_df = pd.read_csv(self.get_filename(op_type=\"sign\", sec_level=\"2\")).drop(labels=\"success\", axis=1)\n",
    "        sign_lvl3_df = pd.read_csv(self.get_filename(op_type=\"sign\", sec_level=\"3\")).drop(labels=\"success\", axis=1)\n",
    "        sign_lvl5_df = pd.read_csv(self.get_filename(op_type=\"sign\", sec_level=\"5\")).drop(labels=\"success\", axis=1)\n",
    "\n",
    "        for current_sign_df in [sign_lvl2_df, sign_lvl3_df, sign_lvl5_df]:\n",
    "            current_sign_df['rejects_tries_count'] = (current_sign_df['rejects_count'] + 1)\n",
    "            current_sign_df.drop(labels=\"rejects_count\", axis=1, inplace=True)\n",
    "        sign_lvl5_df = sign_lvl5_df.rename(columns={col: f\"{col}_lvl5\" for col in sign_lvl5_df.columns if ((\"cycles\" in col) or (\"tries\" in col))})\n",
    "\n",
    "        sign_df = pd.merge(sign_lvl2_df, sign_lvl3_df, on='test_num', suffixes=[\"_lvl2\", \"_lvl3\"])\n",
    "        sign_df = pd.merge(sign_df, sign_lvl5_df, on='test_num', suffixes=[None, \"_lvl5\"])\n",
    "        return sign_df\n",
    "    \n",
    "    def get_verify_data(self):\n",
    "        verify_lvl2_df = pd.read_csv(self.get_filename(op_type=\"verify\", sec_level=\"2\")).drop(labels=\"success\", axis=1)\n",
    "        verify_lvl3_df = pd.read_csv(self.get_filename(op_type=\"verify\", sec_level=\"3\")).drop(labels=\"success\", axis=1)\n",
    "        verify_lvl5_df = pd.read_csv(self.get_filename(op_type=\"verify\", sec_level=\"5\")).drop(labels=\"success\", axis=1)\n",
    "        verify_lvl5_df = verify_lvl5_df.rename(columns={col: f\"{col}_lvl5\" for col in verify_lvl5_df.columns if \"cycles\" in col})\n",
    "        verify_df = pd.merge(verify_lvl2_df, verify_lvl3_df, on='test_num', suffixes=[\"_lvl2\", \"_lvl3\"])\n",
    "        verify_df = pd.merge(verify_df, verify_lvl5_df, on='test_num', suffixes=[None, \"_lvl5\"])\n",
    "        return verify_df"
   ]
  },
  {
   "cell_type": "code",
   "execution_count": null,
   "id": "be61fce6",
   "metadata": {},
   "outputs": [],
   "source": [
    "lr_stats = DilithiumStats(design_id=\"perf0\", initial_tv=0, last_tv=9)\n",
    "hp_stats = DilithiumStats(design_id=\"perf1\", initial_tv=0, last_tv=9)"
   ]
  },
  {
   "cell_type": "markdown",
   "id": "d72b8862",
   "metadata": {},
   "source": [
    "## Key generation"
   ]
  },
  {
   "cell_type": "code",
   "execution_count": null,
   "id": "99e79a24",
   "metadata": {},
   "outputs": [],
   "source": [
    "hp_keygen_df = hp_stats.get_keygen_data()\n",
    "lr_keygen_df = lr_stats.get_keygen_data()"
   ]
  },
  {
   "cell_type": "code",
   "execution_count": null,
   "id": "1fec9d7d",
   "metadata": {},
   "outputs": [],
   "source": [
    "hp_keygen_df.describe()"
   ]
  },
  {
   "cell_type": "code",
   "execution_count": null,
   "id": "5eceb5ae",
   "metadata": {},
   "outputs": [],
   "source": [
    "lr_keygen_df.describe()"
   ]
  },
  {
   "cell_type": "markdown",
   "id": "745b4a68",
   "metadata": {},
   "source": [
    "## Verify"
   ]
  },
  {
   "cell_type": "code",
   "execution_count": null,
   "id": "9163c5c1",
   "metadata": {},
   "outputs": [],
   "source": [
    "hp_verify_df = hp_stats.get_verify_data()\n",
    "lr_verify_df = lr_stats.get_verify_data()"
   ]
  },
  {
   "cell_type": "code",
   "execution_count": null,
   "id": "772fe816",
   "metadata": {},
   "outputs": [],
   "source": [
    "hp_verify_df.describe()"
   ]
  },
  {
   "cell_type": "code",
   "execution_count": null,
   "id": "26c1c2f0",
   "metadata": {},
   "outputs": [],
   "source": [
    "lr_verify_df.describe()"
   ]
  },
  {
   "cell_type": "markdown",
   "id": "bd6cbcaa",
   "metadata": {},
   "source": [
    "## Signing"
   ]
  },
  {
   "cell_type": "code",
   "execution_count": null,
   "id": "50c9e94f",
   "metadata": {},
   "outputs": [],
   "source": [
    "hp_sign_df = hp_stats.get_sign_data()\n",
    "lr_sign_df = lr_stats.get_sign_data()"
   ]
  },
  {
   "cell_type": "code",
   "execution_count": null,
   "id": "f39ec15a",
   "metadata": {},
   "outputs": [],
   "source": [
    "hp_sign_df.describe()"
   ]
  },
  {
   "cell_type": "markdown",
   "id": "3865cdb6",
   "metadata": {},
   "source": [
    "### Best and mean time"
   ]
  },
  {
   "cell_type": "code",
   "execution_count": null,
   "id": "cdca9376",
   "metadata": {},
   "outputs": [],
   "source": [
    "def calculate_best_and_mean_time(dataframe, cols_names_list):\n",
    "    result_dict = dict()\n",
    "\n",
    "    for sec_lvl in [2, 3, 5]:\n",
    "        result_dict[sec_lvl] = dict()\n",
    "        for col_name in cols_names_list:\n",
    "            best_time = dataframe[dataframe[f'rejects_tries_count_lvl{sec_lvl}'] == 1][f'{col_name}_lvl{sec_lvl}'].mean()\n",
    "            mean_time = dataframe[f'{col_name}_lvl{sec_lvl}'].mean()\n",
    "            result_dict[sec_lvl][col_name] = {'best': best_time, 'mean': mean_time}\n",
    "\n",
    "    return result_dict"
   ]
  },
  {
   "cell_type": "code",
   "execution_count": null,
   "id": "6c4d6745",
   "metadata": {},
   "outputs": [],
   "source": [
    "calculate_best_and_mean_time(hp_sign_df, ['total_cycles'])"
   ]
  },
  {
   "cell_type": "code",
   "execution_count": null,
   "id": "10c10e05",
   "metadata": {},
   "outputs": [],
   "source": [
    "calculate_best_and_mean_time(\n",
    "    lr_sign_df,\n",
    "    ['load_sk_cycles', 'load_msg_cycles', 'exec_cycles', 'unload_cycles', 'total_cycles']\n",
    ")"
   ]
  },
  {
   "cell_type": "markdown",
   "id": "457767e8",
   "metadata": {},
   "source": [
    "### Reject loop time estimation (unused)"
   ]
  },
  {
   "cell_type": "code",
   "execution_count": null,
   "id": "f2c104ff",
   "metadata": {},
   "outputs": [],
   "source": [
    "def estimate_reject_loop_time(dataframe, cycles_col_name: str):\n",
    "    result_list = []\n",
    "\n",
    "    for sec_lvl in [2, 3, 5]:\n",
    "        estimatives = []\n",
    "        tries_col_name_lvl = f'rejects_tries_count_lvl{sec_lvl}'\n",
    "        cycles_col_name_lvl = f'{cycles_col_name}_lvl{sec_lvl}'\n",
    "\n",
    "        retries_num_list = sorted(list(dataframe[tries_col_name_lvl].unique()))\n",
    "        for idx in range(1, len(retries_num_list)):\n",
    "            current_retry_num = retries_num_list[idx]\n",
    "            previous_retry_num = retries_num_list[idx-1]\n",
    "            retry_num_delta = current_retry_num - previous_retry_num\n",
    "\n",
    "            current_time = dataframe[dataframe[tries_col_name_lvl] == current_retry_num][cycles_col_name_lvl].mean()\n",
    "            previous_time = dataframe[dataframe[tries_col_name_lvl] == previous_retry_num][cycles_col_name_lvl].mean()\n",
    "            estimatives.append((current_time-previous_time)/retry_num_delta)\n",
    "\n",
    "        result_list.append(np.mean(estimatives))\n",
    "\n",
    "    return tuple(result_list)"
   ]
  },
  {
   "cell_type": "code",
   "execution_count": null,
   "id": "afb9e737",
   "metadata": {},
   "outputs": [],
   "source": [
    "estimate_reject_loop_time(dataframe=hp_sign_df, cycles_col_name=\"total_cycles\")"
   ]
  }
 ],
 "metadata": {
  "kernelspec": {
   "display_name": ".venv",
   "language": "python",
   "name": "python3"
  },
  "language_info": {
   "codemirror_mode": {
    "name": "ipython",
    "version": 3
   },
   "file_extension": ".py",
   "mimetype": "text/x-python",
   "name": "python",
   "nbconvert_exporter": "python",
   "pygments_lexer": "ipython3",
   "version": "3.12.3"
  }
 },
 "nbformat": 4,
 "nbformat_minor": 5
}
